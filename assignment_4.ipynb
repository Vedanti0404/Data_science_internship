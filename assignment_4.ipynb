{
  "nbformat": 4,
  "nbformat_minor": 0,
  "metadata": {
    "colab": {
      "provenance": []
    },
    "kernelspec": {
      "name": "python3",
      "display_name": "Python 3"
    },
    "language_info": {
      "name": "python"
    }
  },
  "cells": [
    {
      "cell_type": "code",
      "execution_count": 2,
      "metadata": {
        "colab": {
          "base_uri": "https://localhost:8080/"
        },
        "id": "5FO7n7-lngE8",
        "outputId": "b8aec101-1d63-48e9-c1ad-978b43d3b26c"
      },
      "outputs": [
        {
          "output_type": "stream",
          "name": "stdout",
          "text": [
            "   sepal length (cm)  sepal width (cm)  petal length (cm)  petal width (cm)  \\\n",
            "0           0.000000          1.036574          -1.340227         -1.315444   \n",
            "1          -1.152203         -0.122957          -1.340227         -1.315444   \n",
            "2          -1.395201          0.340856          -1.397064         -1.315444   \n",
            "3          -1.516700          0.108949          -1.283389         -1.315444   \n",
            "4          -1.030704          1.268481          -1.340227         -1.315444   \n",
            "\n",
            "   sepal length (cm)^2  sepal length (cm) sepal width (cm)  \\\n",
            "0             0.000000                            0.000000   \n",
            "1             1.327571                            0.141671   \n",
            "2             1.946585                           -0.475562   \n",
            "3             2.300378                           -0.165243   \n",
            "4             1.062350                           -1.307427   \n",
            "\n",
            "   sepal length (cm) petal length (cm)  sepal length (cm) petal width (cm)  \\\n",
            "0                            -0.000000                           -0.000000   \n",
            "1                             1.544212                            1.515658   \n",
            "2                             1.949185                            1.835309   \n",
            "3                             1.946516                            1.995134   \n",
            "4                             1.381376                            1.355833   \n",
            "\n",
            "   sepal width (cm)^2  sepal width (cm) petal length (cm)  \\\n",
            "0            1.074486                           -1.389244   \n",
            "1            0.015118                            0.164790   \n",
            "2            0.116182                           -0.476197   \n",
            "3            0.011870                           -0.139824   \n",
            "4            1.609043                           -1.700051   \n",
            "\n",
            "   sepal width (cm) petal width (cm)  petal length (cm)^2  \\\n",
            "0                          -1.363556             1.796207   \n",
            "1                           0.161743             1.796207   \n",
            "2                          -0.448376             1.951788   \n",
            "3                          -0.143317             1.647088   \n",
            "4                          -1.668616             1.796207   \n",
            "\n",
            "   petal length (cm) petal width (cm)  petal width (cm)^2  \n",
            "0                            1.762993            1.730394  \n",
            "1                            1.762993            1.730394  \n",
            "2                            1.837760            1.730394  \n",
            "3                            1.688227            1.730394  \n",
            "4                            1.762993            1.730394  \n"
          ]
        }
      ],
      "source": [
        "import pandas as pd\n",
        "from sklearn.datasets import load_iris\n",
        "from sklearn.model_selection import train_test_split\n",
        "from sklearn.preprocessing import StandardScaler, PolynomialFeatures\n",
        "from sklearn.compose import ColumnTransformer\n",
        "from sklearn.pipeline import Pipeline\n",
        "from sklearn.impute import SimpleImputer\n",
        "\n",
        "# Load Iris dataset\n",
        "iris = load_iris()\n",
        "df = pd.DataFrame(data=iris.data, columns=iris.feature_names)\n",
        "df['target'] = iris.target\n",
        "\n",
        "# Introduce some missing values for demonstration purposes\n",
        "import numpy as np\n",
        "df.loc[0, 'sepal length (cm)'] = np.nan\n",
        "df.loc[10, 'sepal width (cm)'] = np.nan\n",
        "\n",
        "# Separate features and target variable\n",
        "X = df.drop('target', axis=1)\n",
        "y = df['target']\n",
        "\n",
        "# Define preprocessing for numerical features (impute missing values and scale)\n",
        "numerical_features = X.columns\n",
        "numerical_transformer = Pipeline(steps=[\n",
        "    ('imputer', SimpleImputer(strategy='mean')),\n",
        "    ('scaler', StandardScaler())\n",
        "])\n",
        "\n",
        "# Define polynomial feature generation\n",
        "polynomial_transformer = PolynomialFeatures(degree=2, include_bias=False)\n",
        "\n",
        "# Combine preprocessing and feature engineering\n",
        "preprocessor = ColumnTransformer(\n",
        "    transformers=[\n",
        "        ('num', numerical_transformer, numerical_features)\n",
        "    ])\n",
        "\n",
        "# Create and fit the preprocessing pipeline\n",
        "pipeline = Pipeline(steps=[\n",
        "    ('preprocessor', preprocessor),\n",
        "    ('poly', polynomial_transformer)\n",
        "])\n",
        "\n",
        "X_preprocessed = pipeline.fit_transform(X)\n",
        "\n",
        "# Convert preprocessed data back to a DataFrame for better understanding\n",
        "feature_names = polynomial_transformer.get_feature_names_out(numerical_features)\n",
        "X_preprocessed_df = pd.DataFrame(X_preprocessed, columns=feature_names)\n",
        "\n",
        "print(X_preprocessed_df.head())\n"
      ]
    }
  ]
}