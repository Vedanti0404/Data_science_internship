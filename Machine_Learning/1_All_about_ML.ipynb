{
 "cells": [
  {
   "cell_type": "markdown",
   "id": "d37ba312-14c0-48a1-bde0-86c862316dc0",
   "metadata": {},
   "source": [
    "# What is Machine Learning"
   ]
  },
  {
   "cell_type": "markdown",
   "id": "ceda7695-7d94-4339-acc4-a29de9135cd7",
   "metadata": {},
   "source": [
    "#### In the real world, we are surrounded by humans who can learn everything from their experiences with their learning capability, and we have computers or machines which work on our instructions. But can a machine also learn from experiences or past data like a human does? So here comes the role of Machine Learning."
   ]
  },
  {
   "cell_type": "markdown",
   "id": "89053b0c-e2fe-4513-8399-2307bb2e0ebc",
   "metadata": {},
   "source": [
    "#### ML is a subset of artificial intelligence known as machine learning focuses primarily on the creation of algorithms that enable a computer to independently learn from data and previous experiences. Arthur Samuel first used the term \"machine learning\" in 1959. It could be summarized as follows: Without being explicitly programmed, machine learning enables a machine to automatically learn from data, improve performance from experiences, and predict things. Machine learning algorithms create a mathematical model that, without being explicitly programmed, aids in making predictions or decisions with the assistance of sample historical data, or training data. For the purpose of developing predictive models, machine learning brings together statistics and computer science. Algorithms that learn from historical data are either constructed or utilized in machine learning. The performance will rise in proportion to the quantity of information we provide. A machine can learn if it can gain more data to improve its performance."
   ]
  },
  {
   "cell_type": "markdown",
   "id": "c5d42fb3-7930-487b-930f-c5e98089aaa1",
   "metadata": {},
   "source": [
    "# How does Machine Learning work"
   ]
  },
  {
   "attachments": {
    "7491ed28-a786-4541-8625-b095f041df03.png": {
     "image/png": "[encoded data removed]"
    }
   },
   "cell_type": "markdown",
   "id": "d02a3b10-37cd-4656-89e6-a1f738c35f79",
   "metadata": {},
   "source": [
    "![introduction-to-machine-learning2.png](attachment:7491ed28-a786-4541-8625-b095f041df03.png)"
   ]
  },
  {
   "cell_type": "markdown",
   "id": "38b9eb3d-a97f-4055-9c37-aeb2d1709bdb",
   "metadata": {},
   "source": [
    "# Features of Machine Learning:"
   ]
  },
  {
   "cell_type": "markdown",
   "id": "eeddbb6b-1c5d-419b-81e9-fc400a377b81",
   "metadata": {},
   "source": [
    "#### 1.Machine learning uses data to detect various patterns in a given dataset.\n",
    "#### 2.It can learn from past data and improve automatically.\n",
    "#### 3.It is a data-driven technology.\n",
    "#### 4.Machine learning is much similar to data mining as it also deals with the huge amount of the data."
   ]
  },
  {
   "cell_type": "markdown",
   "id": "e36d25a4-5a01-4ca7-8eda-06ca6c5e2b82",
   "metadata": {},
   "source": [
    "# Classification of Machine Learning"
   ]
  },
  {
   "cell_type": "markdown",
   "id": "268214c3-f8d4-475f-adcc-3697becaadb9",
   "metadata": {},
   "source": [
    "## Machine learning can be classified into three types:\n",
    "\n",
    "#### 1.Supervised learning\n",
    "#### 2.Unsupervised learning\n",
    "#### 3.Reinforcement learning"
   ]
  },
  {
   "cell_type": "markdown",
   "id": "1b417bdf-6b71-498f-a1d7-c3194261d4d9",
   "metadata": {},
   "source": [
    "# 1) Supervised Learning"
   ]
  },
  {
   "cell_type": "markdown",
   "id": "ea1d0841-4ec9-413c-8e81-7a45f60141d8",
   "metadata": {},
   "source": [
    "#### In supervised learning, sample labeled data are provided to the machine learning system for training, and the system then predicts the output based on the training data.The system uses labeled data to build a model that understands the datasets and learns about each one. After the training and processing are done, we test the model with sample data to see if it can accurately predict the output.The mapping of the input data to the output data is the objective of supervised learning. The managed learning depends on oversight, and it is equivalent to when an understudy learns things in the management of the educator. Spam filtering is an example of supervised learning.\n",
    "\n",
    "## Supervised learning can be grouped further in two categories of algorithms:\n",
    "### 1.Classification\n",
    "### 2.Regression"
   ]
  },
  {
   "cell_type": "markdown",
   "id": "0d289007-6189-44cf-bbb0-1f7fedb1e667",
   "metadata": {},
   "source": [
    "# 2) Unsupervised Learning"
   ]
  },
  {
   "cell_type": "markdown",
   "id": "665f9cf6-1f67-4f21-8d97-1120c6719f95",
   "metadata": {},
   "source": [
    "#### Unsupervised learning is a learning method in which a machine learns without any supervision.The training is provided to the machine with the set of data that has not been labeled, classified, or categorized, and the algorithm needs to act on that data without any supervision. The goal of unsupervised learning is to restructure the input data into new features or a group of objects with similar patterns.In unsupervised learning, we don't have a predetermined result. The machine tries to find useful insights from the huge amount of data. \n",
    "\n",
    "## It can be further classifieds into two categories of algorithms:\n",
    "### 1.Clustering\n",
    "### 2.Association"
   ]
  },
  {
   "cell_type": "markdown",
   "id": "8a23a52d-dc62-4c6c-8481-fa0250a19bf5",
   "metadata": {},
   "source": [
    "# 3) Reinforcement Learning\n",
    "#### Reinforcement learning is a feedback-based learning method, in which a learning agent gets a reward for each right action and gets a penalty for each wrong action. The agent learns automatically with these feedbacks and improves its performance. In reinforcement learning, the agent interacts with the environment and explores it. The goal of an agent is to get the most reward points, and hence, it improves its performance.The robotic dog, which automatically learns the movement of his arms, is an example of Reinforcement learning."
   ]
  },
  {
   "cell_type": "code",
   "execution_count": null,
   "id": "b396edb5-4876-4ed9-9cd3-a0802cf2a941",
   "metadata": {},
   "outputs": [],
   "source": []
  }
 ],
 "metadata": {
  "kernelspec": {
   "display_name": "Python 3 (ipykernel)",
   "language": "python",
   "name": "python3"
  },
  "language_info": {
   "codemirror_mode": {
    "name": "ipython",
    "version": 3
   },
   "file_extension": ".py",
   "mimetype": "text/x-python",
   "name": "python",
   "nbconvert_exporter": "python",
   "pygments_lexer": "ipython3",
   "version": "3.10.14"
  }
 },
 "nbformat": 4,
 "nbformat_minor": 5
}
