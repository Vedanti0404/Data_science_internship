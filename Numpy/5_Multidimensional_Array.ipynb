{
 "cells": [
  {
   "cell_type": "code",
   "execution_count": 2,
   "id": "7175238d-7b08-4a22-91b2-508d15c7c799",
   "metadata": {},
   "outputs": [
    {
     "name": "stdout",
     "output_type": "stream",
     "text": [
      "(2, 2)\n",
      "1\n"
     ]
    }
   ],
   "source": [
    "import numpy as np\n",
    "a=np.array([[1,2],[3,4]])\n",
    "print(a.shape)\n",
    "print(a[0,0])"
   ]
  },
  {
   "cell_type": "markdown",
   "id": "3f6fce51-9091-4b24-a3a5-172e21bfb1b4",
   "metadata": {},
   "source": [
    "### Transpose\n"
   ]
  },
  {
   "cell_type": "code",
   "execution_count": 3,
   "id": "64176117-a112-4e78-be2a-6ec996b9d8fe",
   "metadata": {},
   "outputs": [
    {
     "name": "stdout",
     "output_type": "stream",
     "text": [
      "[[1 3]\n",
      " [2 4]]\n"
     ]
    }
   ],
   "source": [
    "print(a.T)"
   ]
  },
  {
   "cell_type": "markdown",
   "id": "d0d3983a-e4d8-47bc-b3a7-e4f8b7d3a7f3",
   "metadata": {},
   "source": [
    "### Inverse"
   ]
  },
  {
   "cell_type": "code",
   "execution_count": 4,
   "id": "d1282399-20f1-4f56-89fb-1e3932cc8dbf",
   "metadata": {},
   "outputs": [
    {
     "name": "stdout",
     "output_type": "stream",
     "text": [
      "[[-2.   1. ]\n",
      " [ 1.5 -0.5]]\n"
     ]
    }
   ],
   "source": [
    "print(np.linalg.inv(a))"
   ]
  },
  {
   "cell_type": "markdown",
   "id": "115d2a0a-485b-4a6e-b898-f840716241ef",
   "metadata": {},
   "source": [
    "### Determinant"
   ]
  },
  {
   "cell_type": "code",
   "execution_count": 5,
   "id": "16d8e437-905f-4984-92e0-98c713c71ba4",
   "metadata": {},
   "outputs": [
    {
     "name": "stdout",
     "output_type": "stream",
     "text": [
      "-2.0000000000000004\n"
     ]
    }
   ],
   "source": [
    "print(np.linalg.det(a))\n"
   ]
  },
  {
   "cell_type": "markdown",
   "id": "e577305d-b216-48d3-8230-75871da9bee2",
   "metadata": {},
   "source": [
    "### Diagonal"
   ]
  },
  {
   "cell_type": "code",
   "execution_count": 6,
   "id": "86200b4e-0d6c-42d9-a8e9-982e01adea8e",
   "metadata": {},
   "outputs": [
    {
     "name": "stdout",
     "output_type": "stream",
     "text": [
      "[[1 0]\n",
      " [0 4]]\n"
     ]
    }
   ],
   "source": [
    "b=np.diag(a)\n",
    "print(np.diag(b))"
   ]
  },
  {
   "cell_type": "markdown",
   "id": "2d52f795-fe0f-4149-828d-343c176a3e2e",
   "metadata": {},
   "source": [
    "### Indexing"
   ]
  },
  {
   "cell_type": "code",
   "execution_count": 7,
   "id": "c1fa377c-2c1f-4771-a8a9-de7f85d6f8ce",
   "metadata": {},
   "outputs": [
    {
     "name": "stdout",
     "output_type": "stream",
     "text": [
      "[[1 2]\n",
      " [3 4]]\n"
     ]
    }
   ],
   "source": [
    "c=np.array([[1,2],[3,4]])\n",
    "print(c)"
   ]
  },
  {
   "cell_type": "code",
   "execution_count": null,
   "id": "6cef01d2-4b66-4a02-acbc-11cb765bf1f5",
   "metadata": {},
   "outputs": [],
   "source": []
  }
 ],
 "metadata": {
  "kernelspec": {
   "display_name": "Python 3 (ipykernel)",
   "language": "python",
   "name": "python3"
  },
  "language_info": {
   "codemirror_mode": {
    "name": "ipython",
    "version": 3
   },
   "file_extension": ".py",
   "mimetype": "text/x-python",
   "name": "python",
   "nbconvert_exporter": "python",
   "pygments_lexer": "ipython3",
   "version": "3.10.14"
  }
 },
 "nbformat": 4,
 "nbformat_minor": 5
}
