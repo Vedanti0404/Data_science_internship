{
 "cells": [
  {
   "cell_type": "code",
   "execution_count": 6,
   "id": "9b7b9a77-1f2f-4725-8874-f5ba4b44c861",
   "metadata": {},
   "outputs": [
    {
     "name": "stdout",
     "output_type": "stream",
     "text": [
      "[[ 7  8  9 10 11 12 13]\n",
      " [17 18 19 20 21 22 23]]\n",
      "<built-in method sum of numpy.ndarray object at 0x000002199D771B30>\n"
     ]
    }
   ],
   "source": [
    "import numpy as np\n",
    "\n",
    "a = np.array([(7,8,9,10,11,12,13), (17,18,19,20,21,22,23)])\n",
    "\n",
    "print(a)\n",
    "\n",
    "print(a.sum)\n"
   ]
  },
  {
   "cell_type": "code",
   "execution_count": 7,
   "id": "ffd7ea3c-c2e3-4a9f-9be9-4d58012c62e1",
   "metadata": {},
   "outputs": [
    {
     "name": "stdout",
     "output_type": "stream",
     "text": [
      "210\n"
     ]
    }
   ],
   "source": [
    "print(a.sum(axis=None)) # total sum"
   ]
  },
  {
   "cell_type": "code",
   "execution_count": 8,
   "id": "36db2528-5073-4582-b0b5-8e7a64aa8ba3",
   "metadata": {},
   "outputs": [
    {
     "name": "stdout",
     "output_type": "stream",
     "text": [
      "[24 26 28 30 32 34 36]\n"
     ]
    }
   ],
   "source": [
    "print(a.sum(axis=0)) # calc along the row\n"
   ]
  },
  {
   "cell_type": "code",
   "execution_count": 9,
   "id": "b4120ee7-590c-49c6-8c8a-6b0e3fe196c9",
   "metadata": {},
   "outputs": [
    {
     "name": "stdout",
     "output_type": "stream",
     "text": [
      "[ 70 140]\n"
     ]
    }
   ],
   "source": [
    "print(a.sum(axis=1)) # calc along the col"
   ]
  },
  {
   "cell_type": "code",
   "execution_count": 10,
   "id": "9feba7ab-5060-4f24-8448-d1824a9dac58",
   "metadata": {},
   "outputs": [
    {
     "name": "stdout",
     "output_type": "stream",
     "text": [
      "15.0\n"
     ]
    }
   ],
   "source": [
    "print(a.mean(axis=None))"
   ]
  },
  {
   "cell_type": "code",
   "execution_count": 11,
   "id": "d08627aa-287b-4fed-b71b-0f8dd63d2f01",
   "metadata": {},
   "outputs": [
    {
     "name": "stdout",
     "output_type": "stream",
     "text": [
      "[12. 13. 14. 15. 16. 17. 18.]\n"
     ]
    }
   ],
   "source": [
    "print(a.mean(axis=0))"
   ]
  },
  {
   "cell_type": "code",
   "execution_count": 12,
   "id": "77d88216-e6aa-4222-a5c1-cf3cf64811b4",
   "metadata": {},
   "outputs": [
    {
     "name": "stdout",
     "output_type": "stream",
     "text": [
      "[10. 20.]\n"
     ]
    }
   ],
   "source": [
    "print(a.mean(axis=1))"
   ]
  },
  {
   "cell_type": "code",
   "execution_count": 13,
   "id": "2bd24a27-9eb3-4aff-bad4-6492bde6a6ff",
   "metadata": {},
   "outputs": [
    {
     "name": "stdout",
     "output_type": "stream",
     "text": [
      "29.0\n"
     ]
    }
   ],
   "source": [
    "# Variance\n",
    "print(a.var(axis=None))"
   ]
  },
  {
   "cell_type": "code",
   "execution_count": 17,
   "id": "1fe2dc25-fc65-4cb4-b447-c66057898430",
   "metadata": {},
   "outputs": [
    {
     "name": "stdout",
     "output_type": "stream",
     "text": [
      "5.385164807134504\n"
     ]
    }
   ],
   "source": [
    "# Standard deviation\n",
    "print(a.std(axis=None))"
   ]
  },
  {
   "cell_type": "code",
   "execution_count": 18,
   "id": "f1ca00b2-3f80-40af-b6ed-bb6f8e0c1ad3",
   "metadata": {},
   "outputs": [
    {
     "name": "stdout",
     "output_type": "stream",
     "text": [
      "7\n"
     ]
    }
   ],
   "source": [
    "print(a.min(axis=None))"
   ]
  },
  {
   "cell_type": "code",
   "execution_count": 19,
   "id": "4e85ed18-f4d6-4e20-99e5-3b8adc496151",
   "metadata": {},
   "outputs": [
    {
     "name": "stdout",
     "output_type": "stream",
     "text": [
      "23\n"
     ]
    }
   ],
   "source": [
    "print(a.max(axis=None))"
   ]
  },
  {
   "cell_type": "code",
   "execution_count": null,
   "id": "9ed2457d-6026-4a30-aae5-b0f85832246a",
   "metadata": {},
   "outputs": [],
   "source": []
  }
 ],
 "metadata": {
  "kernelspec": {
   "display_name": "Python 3 (ipykernel)",
   "language": "python",
   "name": "python3"
  },
  "language_info": {
   "codemirror_mode": {
    "name": "ipython",
    "version": 3
   },
   "file_extension": ".py",
   "mimetype": "text/x-python",
   "name": "python",
   "nbconvert_exporter": "python",
   "pygments_lexer": "ipython3",
   "version": "3.10.14"
  }
 },
 "nbformat": 4,
 "nbformat_minor": 5
}
