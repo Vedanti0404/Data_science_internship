{
 "cells": [
  {
   "cell_type": "code",
   "execution_count": 1,
   "id": "842ad40a-effb-45e0-89a6-e17cce56280f",
   "metadata": {},
   "outputs": [
    {
     "name": "stdout",
     "output_type": "stream",
     "text": [
      "(2, 4)\n",
      "1\n"
     ]
    }
   ],
   "source": [
    "import numpy as np\n",
    "a=np.array([[1,2,3,4],[5,6,7,8]])\n",
    "print(a.shape)\n",
    "print(a[0,0])"
   ]
  },
  {
   "cell_type": "markdown",
   "id": "101eac14-efd4-4d7e-b524-a5e809fc9c00",
   "metadata": {},
   "source": [
    "### Slicing"
   ]
  },
  {
   "cell_type": "code",
   "execution_count": 2,
   "id": "c42861e2-27de-453e-827e-e586fbe9807e",
   "metadata": {},
   "outputs": [
    {
     "name": "stdout",
     "output_type": "stream",
     "text": [
      "[1 2 3 4]\n",
      "[[1 2 3 4]\n",
      " [5 6 7 8]]\n",
      "[1 5]\n",
      "[]\n",
      "[2 3]\n",
      "[2 6]\n",
      "[3 7]\n",
      "8\n",
      "7\n"
     ]
    }
   ],
   "source": [
    "\n",
    "print(a[0,:])  # row 0 and colon for the other dimension\n",
    "print(a[0:,])\n",
    "print(a[:,0])\n",
    "print(a[:0,])\n",
    "print(a[0,1:3])\n",
    "print(a[:,1])\n",
    "print(a[:,2])\n",
    "print(a[-1,-1]) # last row and last column\n",
    "print(a[-1,-2]) # last row and second last column\n"
   ]
  },
  {
   "cell_type": "markdown",
   "id": "556e2281-acf5-47dc-a95d-dd8bb58d299d",
   "metadata": {},
   "source": [
    "### Indexing"
   ]
  },
  {
   "cell_type": "code",
   "execution_count": 4,
   "id": "1f6a9776-43b3-4823-be10-8357351cae5b",
   "metadata": {},
   "outputs": [
    {
     "name": "stdout",
     "output_type": "stream",
     "text": [
      "[[1 2]\n",
      " [3 4]]\n",
      "2\n",
      "[[1 2]\n",
      " [3 4]\n",
      " [5 6]]\n"
     ]
    }
   ],
   "source": [
    "\n",
    "c=np.array([[1,2],[3,4]])\n",
    "print(c)\n",
    "\n",
    "d=c[0,1]\n",
    "print(d)\n",
    "\n",
    "b=np.array([[1,2],[3,4],[5,6]])\n",
    "print(b)\n",
    "\n",
    "\n"
   ]
  },
  {
   "cell_type": "markdown",
   "id": "f1ed4d85-02b9-4e05-806c-6e0ba77b40f5",
   "metadata": {},
   "source": [
    "### Boolean Indexing"
   ]
  },
  {
   "cell_type": "code",
   "execution_count": 8,
   "id": "24b50da7-98d2-4aa5-ac33-f4f5e98a52ec",
   "metadata": {},
   "outputs": [
    {
     "name": "stdout",
     "output_type": "stream",
     "text": [
      "[[False False]\n",
      " [ True  True]\n",
      " [ True  True]]\n",
      "[3 4 5 6]\n"
     ]
    }
   ],
   "source": [
    "bool_indx=b>2\n",
    "print(bool_indx)\n",
    "print(b[bool_indx])"
   ]
  },
  {
   "cell_type": "code",
   "execution_count": 9,
   "id": "1dbe4626-0e78-4ce9-b52d-a24195b99031",
   "metadata": {},
   "outputs": [
    {
     "name": "stdout",
     "output_type": "stream",
     "text": [
      "[3 4 5 6]\n"
     ]
    }
   ],
   "source": [
    "print(b[b>2])"
   ]
  },
  {
   "cell_type": "code",
   "execution_count": 10,
   "id": "e83cec38-1ef8-42fa-9ca5-fd94e09440c5",
   "metadata": {},
   "outputs": [
    {
     "name": "stdout",
     "output_type": "stream",
     "text": [
      "[[-1 -1]\n",
      " [ 3  4]\n",
      " [ 5  6]]\n"
     ]
    }
   ],
   "source": [
    "c=np.where(b>2, b, -1)\n",
    "print(c)"
   ]
  },
  {
   "cell_type": "code",
   "execution_count": 18,
   "id": "758d41de-1f63-41cb-92c1-465155e82c84",
   "metadata": {},
   "outputs": [
    {
     "name": "stdout",
     "output_type": "stream",
     "text": [
      "[10 20 30 40 50 41 91 62]\n",
      "[20 40 41]\n"
     ]
    }
   ],
   "source": [
    "d = np.array([10, 20, 30, 40, 50, 41, 91, 62])\n",
    "print(d)\n",
    "\n",
    "e = [1, 3, 5]\n",
    "print(d[e])"
   ]
  },
  {
   "cell_type": "markdown",
   "id": "0a9953f4-630c-484b-9389-1a10eb03667f",
   "metadata": {},
   "source": [
    "### For printing even"
   ]
  },
  {
   "cell_type": "code",
   "execution_count": 24,
   "id": "2c5699c2-5e4d-4eb0-8c68-3be25b80c480",
   "metadata": {},
   "outputs": [
    {
     "name": "stdout",
     "output_type": "stream",
     "text": [
      "[0 1 2 3 4 7]\n"
     ]
    }
   ],
   "source": [
    "f = np.array([10, 20, 30, 40, 50, 41, 91, 62])\n",
    "even=np.argwhere(f%2==0).flatten()\n",
    "print(even)"
   ]
  },
  {
   "cell_type": "code",
   "execution_count": 25,
   "id": "067e5e7e-664a-496d-9f83-23d617fb0c08",
   "metadata": {
    "scrolled": true
   },
   "outputs": [
    {
     "name": "stdout",
     "output_type": "stream",
     "text": [
      "[10 20 30 40 50 62]\n"
     ]
    }
   ],
   "source": [
    "f = np.array([10, 20, 30, 40, 50, 41, 91, 62])\n",
    "even_values = f[f % 2 == 0]\n",
    "print(even_values)"
   ]
  },
  {
   "cell_type": "code",
   "execution_count": null,
   "id": "e890452d-5b57-4d8e-a416-1bb0f5866067",
   "metadata": {},
   "outputs": [],
   "source": []
  }
 ],
 "metadata": {
  "kernelspec": {
   "display_name": "Python 3 (ipykernel)",
   "language": "python",
   "name": "python3"
  },
  "language_info": {
   "codemirror_mode": {
    "name": "ipython",
    "version": 3
   },
   "file_extension": ".py",
   "mimetype": "text/x-python",
   "name": "python",
   "nbconvert_exporter": "python",
   "pygments_lexer": "ipython3",
   "version": "3.10.14"
  }
 },
 "nbformat": 4,
 "nbformat_minor": 5
}
