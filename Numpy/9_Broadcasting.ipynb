{
 "cells": [
  {
   "cell_type": "markdown",
   "id": "9f5fdb76-c339-4f76-8ac9-2aac770b398b",
   "metadata": {},
   "source": [
    "### Broadcasting :Powerful mechanism that allows Numpy to work with arrays of different shapes when performing arithematic operations"
   ]
  },
  {
   "cell_type": "code",
   "execution_count": 1,
   "id": "fbd804df-3c43-4ee1-9df9-5f0a50abf376",
   "metadata": {},
   "outputs": [],
   "source": [
    "import numpy as np\n"
   ]
  },
  {
   "cell_type": "code",
   "execution_count": 4,
   "id": "33eea45e-7749-4304-9f33-da308e180bc9",
   "metadata": {},
   "outputs": [
    {
     "name": "stdout",
     "output_type": "stream",
     "text": [
      "[[2 2 4]\n",
      " [5 5 7]\n",
      " [2 2 4]\n",
      " [5 5 7]]\n"
     ]
    }
   ],
   "source": [
    "x = np.array([[1,2,3], [4,5,6], [1,2,3], [4,5,6]])\n",
    "\n",
    "a = np.array([1,0,1])\n",
    "\n",
    "y = x + a\n",
    "\n",
    "print(y)"
   ]
  },
  {
   "cell_type": "code",
   "execution_count": null,
   "id": "753e1d43-87bf-498b-959c-56608f2d4ae3",
   "metadata": {},
   "outputs": [],
   "source": []
  }
 ],
 "metadata": {
  "kernelspec": {
   "display_name": "Python 3 (ipykernel)",
   "language": "python",
   "name": "python3"
  },
  "language_info": {
   "codemirror_mode": {
    "name": "ipython",
    "version": 3
   },
   "file_extension": ".py",
   "mimetype": "text/x-python",
   "name": "python",
   "nbconvert_exporter": "python",
   "pygments_lexer": "ipython3",
   "version": "3.10.14"
  }
 },
 "nbformat": 4,
 "nbformat_minor": 5
}
