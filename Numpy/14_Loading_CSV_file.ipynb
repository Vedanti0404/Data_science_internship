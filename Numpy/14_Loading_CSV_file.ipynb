{
 "cells": [
  {
   "cell_type": "code",
   "execution_count": 1,
   "id": "c3f92a32-a144-4e38-bcbd-e74d0af9a56a",
   "metadata": {},
   "outputs": [],
   "source": [
    "import numpy as np"
   ]
  },
  {
   "cell_type": "code",
   "execution_count": 2,
   "id": "426617c6-30c6-4bc2-af67-332a1fccf14e",
   "metadata": {},
   "outputs": [],
   "source": [
    "# np.loadtxt , np.genfromtxt"
   ]
  },
  {
   "cell_type": "code",
   "execution_count": 7,
   "id": "5fd69f5b-0f5c-4372-9a8e-a65dd05f4bc5",
   "metadata": {},
   "outputs": [
    {
     "name": "stdout",
     "output_type": "stream",
     "text": [
      "(4601, 58)\n"
     ]
    }
   ],
   "source": [
    "data = np.genfromtxt('spambase.csv', delimiter=\",\", dtype=np.float16, skip_header=1)\n",
    "print(data.shape)"
   ]
  }
 ],
 "metadata": {
  "kernelspec": {
   "display_name": "Python 3 (ipykernel)",
   "language": "python",
   "name": "python3"
  },
  "language_info": {
   "codemirror_mode": {
    "name": "ipython",
    "version": 3
   },
   "file_extension": ".py",
   "mimetype": "text/x-python",
   "name": "python",
   "nbconvert_exporter": "python",
   "pygments_lexer": "ipython3",
   "version": "3.10.14"
  }
 },
 "nbformat": 4,
 "nbformat_minor": 5
}
