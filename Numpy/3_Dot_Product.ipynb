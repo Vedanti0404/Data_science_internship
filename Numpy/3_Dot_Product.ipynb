{
 "cells": [
  {
   "cell_type": "markdown",
   "id": "23b26503-17b2-402f-a042-1a6c281566b1",
   "metadata": {},
   "source": [
    "# DOT PRODUCT:- Sum of the products of corresponding entries\n"
   ]
  },
  {
   "cell_type": "code",
   "execution_count": 2,
   "id": "bdb027af-2fc4-404c-a89a-2072ce9d9635",
   "metadata": {},
   "outputs": [],
   "source": [
    "import numpy as np"
   ]
  },
  {
   "cell_type": "markdown",
   "id": "ef76989e-57d2-4bec-8b83-baf2377d3b19",
   "metadata": {},
   "source": [
    "### For lists"
   ]
  },
  {
   "cell_type": "code",
   "execution_count": 3,
   "id": "ed65ffa6-c274-437a-ab35-96c5bd0fefce",
   "metadata": {},
   "outputs": [],
   "source": [
    "l1=[1,2,3]\n",
    "l2=[4,5,6]\n",
    "a1=np.array(l1)\n",
    "a2=np.array(l2)"
   ]
  },
  {
   "cell_type": "code",
   "execution_count": 4,
   "id": "3d1e0fd1-87d5-427a-916b-0f083f532c5b",
   "metadata": {},
   "outputs": [],
   "source": [
    "dot=0"
   ]
  },
  {
   "cell_type": "code",
   "execution_count": 5,
   "id": "e91fd8fc-4941-4cad-aa5a-e3fb61aa43f4",
   "metadata": {},
   "outputs": [
    {
     "name": "stdout",
     "output_type": "stream",
     "text": [
      "32\n"
     ]
    }
   ],
   "source": [
    "#slow using for loop\n",
    "for i in range(len(l1)):\n",
    "    dot+=l1[i]*l2[i]\n",
    "print(dot)"
   ]
  },
  {
   "cell_type": "code",
   "execution_count": 6,
   "id": "f8cac540-081f-4d74-8db9-20b6afe8e3d9",
   "metadata": {},
   "outputs": [
    {
     "name": "stdout",
     "output_type": "stream",
     "text": [
      "32\n"
     ]
    }
   ],
   "source": [
    "# faster as np is used\n",
    "dot=np.dot(a1,a2)\n",
    "print(dot)"
   ]
  },
  {
   "cell_type": "code",
   "execution_count": 7,
   "id": "4abd8cdd-3d31-41ff-a6b5-8a6496ad8e8d",
   "metadata": {},
   "outputs": [
    {
     "name": "stdout",
     "output_type": "stream",
     "text": [
      "32\n"
     ]
    }
   ],
   "source": [
    "#method 2\n",
    "sum1=a1*a2\n",
    "dot=np.sum(sum1)\n",
    "print(dot)\n"
   ]
  },
  {
   "cell_type": "code",
   "execution_count": 8,
   "id": "fd97292c-0338-4bdf-a374-5ef1ed9884dc",
   "metadata": {},
   "outputs": [
    {
     "name": "stdout",
     "output_type": "stream",
     "text": [
      "32\n"
     ]
    }
   ],
   "source": [
    "#method 3\n",
    "sum2=a1*a2\n",
    "dot=(a1*a2).sum()\n",
    "print(dot)"
   ]
  },
  {
   "cell_type": "code",
   "execution_count": 9,
   "id": "c9fa8cdd-9041-467d-b14c-1db7e7b19297",
   "metadata": {},
   "outputs": [
    {
     "name": "stdout",
     "output_type": "stream",
     "text": [
      "32\n"
     ]
    }
   ],
   "source": [
    "#method 4\n",
    "dot=a1@a2\n",
    "print(dot)"
   ]
  },
  {
   "cell_type": "code",
   "execution_count": null,
   "id": "76462b6d-6e16-4fdc-919a-69c071c73053",
   "metadata": {},
   "outputs": [],
   "source": []
  }
 ],
 "metadata": {
  "kernelspec": {
   "display_name": "Python 3 (ipykernel)",
   "language": "python",
   "name": "python3"
  },
  "language_info": {
   "codemirror_mode": {
    "name": "ipython",
    "version": 3
   },
   "file_extension": ".py",
   "mimetype": "text/x-python",
   "name": "python",
   "nbconvert_exporter": "python",
   "pygments_lexer": "ipython3",
   "version": "3.10.14"
  }
 },
 "nbformat": 4,
 "nbformat_minor": 5
}
