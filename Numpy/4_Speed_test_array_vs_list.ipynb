{
 "cells": [
  {
   "cell_type": "code",
   "execution_count": 1,
   "id": "652e930e-1d99-464e-bbbf-fbf4378e3620",
   "metadata": {},
   "outputs": [],
   "source": [
    "import numpy as np\n",
    "from timeit import default_timer as timer"
   ]
  },
  {
   "cell_type": "code",
   "execution_count": 2,
   "id": "55c2bd7e-0a2b-4c86-912d-f1a6cd3c2887",
   "metadata": {},
   "outputs": [],
   "source": [
    "a=np.random.randn(1000)\n",
    "b=np.random.randn(1000)"
   ]
  },
  {
   "cell_type": "code",
   "execution_count": 3,
   "id": "3ee3142c-611e-4441-ba56-a922584ede62",
   "metadata": {},
   "outputs": [],
   "source": [
    "A=list(a)\n",
    "B=list(b)"
   ]
  },
  {
   "cell_type": "code",
   "execution_count": 4,
   "id": "6c46a04f-957a-48cb-b1cc-802565b4b1a7",
   "metadata": {},
   "outputs": [],
   "source": [
    "T=1000"
   ]
  },
  {
   "cell_type": "code",
   "execution_count": 5,
   "id": "e5db044f-f53b-4af2-99ac-c559f72c78a0",
   "metadata": {},
   "outputs": [],
   "source": [
    "def dot1():\n",
    "    dot=0\n",
    "    for i in range(len(A)):\n",
    "        dot+=A[i]*B[i]\n",
    "    return dot"
   ]
  },
  {
   "cell_type": "code",
   "execution_count": 6,
   "id": "6b92b2c9-25fa-469e-adf7-aef2a2e2330d",
   "metadata": {},
   "outputs": [],
   "source": [
    "def dot2():\n",
    "    return np.dot(a,b)\n"
   ]
  },
  {
   "cell_type": "code",
   "execution_count": 7,
   "id": "05f0ace5-4493-478d-8e4e-0073ad840da2",
   "metadata": {},
   "outputs": [],
   "source": [
    "start=timer()\n",
    "for t in range(T):\n",
    "    dot1()\n",
    "end=timer()\n",
    "t1=end-start\n"
   ]
  },
  {
   "cell_type": "code",
   "execution_count": 8,
   "id": "6d782080-1da1-4276-bfd8-a58d0595f9e3",
   "metadata": {},
   "outputs": [],
   "source": [
    "start=timer()\n",
    "for t in range(T):\n",
    "     dot2()\n",
    "end=timer()\n",
    "t2=end-start"
   ]
  },
  {
   "cell_type": "code",
   "execution_count": 9,
   "id": "f6566a93-edfe-4c22-85fd-b880d32c8d8c",
   "metadata": {},
   "outputs": [
    {
     "name": "stdout",
     "output_type": "stream",
     "text": [
      "List Calculation 0.3186834999360144\n",
      "np.dot 0.008251399965956807\n",
      "Ratio 38.621749188116205\n"
     ]
    }
   ],
   "source": [
    "print('List Calculation', t1)\n",
    "print('np.dot', t2)\n",
    "print('Ratio',t1/t2)"
   ]
  },
  {
   "cell_type": "code",
   "execution_count": null,
   "id": "db37ce18-3540-4679-9147-da4a753eefdf",
   "metadata": {},
   "outputs": [],
   "source": []
  }
 ],
 "metadata": {
  "kernelspec": {
   "display_name": "Python 3 (ipykernel)",
   "language": "python",
   "name": "python3"
  },
  "language_info": {
   "codemirror_mode": {
    "name": "ipython",
    "version": 3
   },
   "file_extension": ".py",
   "mimetype": "text/x-python",
   "name": "python",
   "nbconvert_exporter": "python",
   "pygments_lexer": "ipython3",
   "version": "3.10.14"
  }
 },
 "nbformat": 4,
 "nbformat_minor": 5
}
