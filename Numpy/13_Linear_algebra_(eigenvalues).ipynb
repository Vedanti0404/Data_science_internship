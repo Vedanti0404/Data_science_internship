{
 "cells": [
  {
   "cell_type": "markdown",
   "id": "77d7e841-ff18-4b3b-bd00-1e22b8abf3c8",
   "metadata": {},
   "source": [
    "## PCA\n"
   ]
  },
  {
   "cell_type": "code",
   "execution_count": 1,
   "id": "5bb0105d-d36d-43f2-abc4-368bd306ed63",
   "metadata": {},
   "outputs": [],
   "source": [
    "import numpy as np"
   ]
  },
  {
   "cell_type": "code",
   "execution_count": 7,
   "id": "1004938a-40e5-48be-8efd-68e074c6fc98",
   "metadata": {},
   "outputs": [
    {
     "name": "stdout",
     "output_type": "stream",
     "text": [
      "Eigen values are:  [-0.37228132  5.37228132]\n",
      "Eigen vectors are:  [[-0.82456484 -0.41597356]\n",
      " [ 0.56576746 -0.90937671]]\n"
     ]
    }
   ],
   "source": [
    "a=np.array([[1,2],[3,4]])\n",
    "eigenvalues, eigenvectors=np.linalg.eig(a)\n",
    "print(\"Eigen values are: \",eigenvalues)\n",
    "\n",
    "print(\"Eigen vectors are: \",eigenvectors) #this is a column vector\n"
   ]
  },
  {
   "cell_type": "code",
   "execution_count": 14,
   "id": "ec2eff91-5dfa-4fae-81eb-7ae8121d3e6e",
   "metadata": {},
   "outputs": [
    {
     "name": "stdout",
     "output_type": "stream",
     "text": [
      "[ 0.30697009 -0.21062466]\n",
      "[ 0.30697009 -0.21062466]\n",
      "True\n"
     ]
    }
   ],
   "source": [
    "b=eigenvectors[:,0]*eigenvalues[0]\n",
    "print(b)\n",
    "c=a @ eigenvectors[:,0]\n",
    "print(b)\n",
    "\n",
    "print(np.allclose(b,c))"
   ]
  },
  {
   "cell_type": "code",
   "execution_count": 16,
   "id": "028ba10e-5c36-4f99-b7ec-72ebfa4f73d9",
   "metadata": {},
   "outputs": [
    {
     "name": "stdout",
     "output_type": "stream",
     "text": [
      "[1500.  700.]\n"
     ]
    }
   ],
   "source": [
    "# method one (not optimal sol)\n",
    "A= np.array([[1,1], [1.5,4.0]])\n",
    "\n",
    "b=np.array([2200,5050])\n",
    "\n",
    "x = np.linalg.inv(A).dot(b)\n",
    "\n",
    "print(x)"
   ]
  },
  {
   "cell_type": "code",
   "execution_count": 17,
   "id": "a1587c32-fd57-42f4-97e3-220d6fc99dcc",
   "metadata": {},
   "outputs": [
    {
     "name": "stdout",
     "output_type": "stream",
     "text": [
      "[1500.  700.]\n"
     ]
    }
   ],
   "source": [
    "x=np.linalg.solve(A,b)\n",
    "print(x)"
   ]
  },
  {
   "cell_type": "code",
   "execution_count": null,
   "id": "e296d7c1-3ecd-458e-8bd3-89474f5e734e",
   "metadata": {},
   "outputs": [],
   "source": []
  }
 ],
 "metadata": {
  "kernelspec": {
   "display_name": "Python 3 (ipykernel)",
   "language": "python",
   "name": "python3"
  },
  "language_info": {
   "codemirror_mode": {
    "name": "ipython",
    "version": 3
   },
   "file_extension": ".py",
   "mimetype": "text/x-python",
   "name": "python",
   "nbconvert_exporter": "python",
   "pygments_lexer": "ipython3",
   "version": "3.10.14"
  }
 },
 "nbformat": 4,
 "nbformat_minor": 5
}
