{
 "cells": [
  {
   "cell_type": "code",
   "execution_count": 1,
   "id": "24c9d235-b070-4af2-9962-6464d7476839",
   "metadata": {},
   "outputs": [],
   "source": [
    "import numpy as np"
   ]
  },
  {
   "cell_type": "code",
   "execution_count": 3,
   "id": "4e9e72ff-6a78-49e2-a490-9d6afccec84c",
   "metadata": {},
   "outputs": [
    {
     "name": "stdout",
     "output_type": "stream",
     "text": [
      "[[0.51529429 0.55579662]\n",
      " [0.38226546 0.16661244]\n",
      " [0.92787498 0.94188934]]\n"
     ]
    }
   ],
   "source": [
    "a=np.random.random((3,2))\n",
    "print(a)\n",
    "# This will generate array from uniform distribution from 0 to 1\n"
   ]
  },
  {
   "cell_type": "code",
   "execution_count": 6,
   "id": "5fcfd002-154e-421b-a41e-d3785cc44bc9",
   "metadata": {},
   "outputs": [
    {
     "name": "stdout",
     "output_type": "stream",
     "text": [
      "-0.035200577419675506 1.0401880064890847\n"
     ]
    }
   ],
   "source": [
    "# Also there is gausian distribution with mean=0 and variance=1\n",
    "a=np.random.randn(1000)  # normal / gaussian  \n",
    "print(a.mean(),a.var())"
   ]
  },
  {
   "cell_type": "code",
   "execution_count": 7,
   "id": "af411dd0-27f0-4d30-b8ad-845c7de993a3",
   "metadata": {},
   "outputs": [
    {
     "name": "stdout",
     "output_type": "stream",
     "text": [
      "[[8 9 7]\n",
      " [9 8 5]\n",
      " [4 5 8]]\n"
     ]
    }
   ],
   "source": [
    "a=np.random.randint(3,10,size=(3,3)) # this will generate a 3x3 matrix of integers between 3 and 9\n",
    "print(a)"
   ]
  },
  {
   "cell_type": "code",
   "execution_count": 9,
   "id": "32573e0b-f561-4250-9c89-0478ffbc6e38",
   "metadata": {},
   "outputs": [
    {
     "name": "stdout",
     "output_type": "stream",
     "text": [
      "[[3 1 8]\n",
      " [5 7 7]\n",
      " [9 0 2]]\n"
     ]
    }
   ],
   "source": [
    "a=np.random.randint(10,size=(3,3)) # Here 0 is lower bound and 9 is upper bound\n",
    "print(a)"
   ]
  },
  {
   "cell_type": "code",
   "execution_count": 10,
   "id": "90b722dd-6124-4426-803e-0937b77b8824",
   "metadata": {},
   "outputs": [
    {
     "name": "stdout",
     "output_type": "stream",
     "text": [
      "[3 2 2 1 0 4 1 4 0 0]\n"
     ]
    }
   ],
   "source": [
    "a=np.random.choice(5, size=10) # this will generate an array of size 10 and will choose random numbers between 0 and 4\n",
    "print(a)"
   ]
  },
  {
   "cell_type": "code",
   "execution_count": 12,
   "id": "e96495d3-cda5-49e8-b3c4-adbce2c6aa7d",
   "metadata": {},
   "outputs": [
    {
     "name": "stdout",
     "output_type": "stream",
     "text": [
      "[-8  5 -3 -8  5 -3  5 -8  5  5]\n"
     ]
    }
   ],
   "source": [
    "a=np.random.choice([5,-3, -8], size=10)\n",
    "print(a)"
   ]
  },
  {
   "cell_type": "code",
   "execution_count": null,
   "id": "c9330175-de22-457e-a50b-f7fa1c57f1cc",
   "metadata": {},
   "outputs": [],
   "source": []
  }
 ],
 "metadata": {
  "kernelspec": {
   "display_name": "Python 3 (ipykernel)",
   "language": "python",
   "name": "python3"
  },
  "language_info": {
   "codemirror_mode": {
    "name": "ipython",
    "version": 3
   },
   "file_extension": ".py",
   "mimetype": "text/x-python",
   "name": "python",
   "nbconvert_exporter": "python",
   "pygments_lexer": "ipython3",
   "version": "3.10.14"
  }
 },
 "nbformat": 4,
 "nbformat_minor": 5
}
