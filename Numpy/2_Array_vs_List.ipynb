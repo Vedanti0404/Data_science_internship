{
 "cells": [
  {
   "cell_type": "code",
   "execution_count": 1,
   "id": "71bd2f44-7ed3-4193-b1bc-c76e759c9d8a",
   "metadata": {},
   "outputs": [],
   "source": [
    "import numpy as np\n",
    "l=[1,2,3]\n",
    "a=np.array([1,2,3])\n"
   ]
  },
  {
   "cell_type": "code",
   "execution_count": 2,
   "id": "686d5e19-bf40-4dd0-956e-e2be11aa84da",
   "metadata": {},
   "outputs": [
    {
     "name": "stdout",
     "output_type": "stream",
     "text": [
      "[1, 2, 3, 4, 1, 2, 3, 4]\n",
      "[5 6 7]\n"
     ]
    }
   ],
   "source": [
    "# l.append(4)\n",
    "l=l+[4] # for appending in list\n",
    "l=l*2   # repeats the list\n",
    "print(l)\n",
    "a=a+np.array([4])  # add 4 to the existing elements of the array\n",
    "# a=a*2  # multiply 2 with existing elements of array\n",
    "print(a)"
   ]
  },
  {
   "cell_type": "code",
   "execution_count": 3,
   "id": "8764e661-72c0-4824-93c4-bc82b1669cf3",
   "metadata": {},
   "outputs": [
    {
     "name": "stdout",
     "output_type": "stream",
     "text": [
      "[1.73205081 2.         2.23606798]\n",
      "[0.54930614 0.69314718 0.80471896]\n"
     ]
    }
   ],
   "source": [
    "a=np.array([3,4,5])\n",
    "# Square Root\n",
    "a=np.sqrt(a)\n",
    "print(a)\n",
    "# Log\n",
    "a=np.log(a)\n",
    "print(a)\n"
   ]
  },
  {
   "cell_type": "code",
   "execution_count": null,
   "id": "c581283a-7cf7-4789-9998-8eb03149343b",
   "metadata": {},
   "outputs": [],
   "source": []
  }
 ],
 "metadata": {
  "kernelspec": {
   "display_name": "Python 3 (ipykernel)",
   "language": "python",
   "name": "python3"
  },
  "language_info": {
   "codemirror_mode": {
    "name": "ipython",
    "version": 3
   },
   "file_extension": ".py",
   "mimetype": "text/x-python",
   "name": "python",
   "nbconvert_exporter": "python",
   "pygments_lexer": "ipython3",
   "version": "3.10.14"
  }
 },
 "nbformat": 4,
 "nbformat_minor": 5
}
