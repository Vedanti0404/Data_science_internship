{
 "cells": [
  {
   "cell_type": "markdown",
   "id": "a58a22da-a494-49c4-8085-ba00a3c421a6",
   "metadata": {},
   "source": [
    "### Concatenation"
   ]
  },
  {
   "cell_type": "code",
   "execution_count": 4,
   "id": "8c805094-4966-482b-89fd-afe9cd8d5256",
   "metadata": {},
   "outputs": [
    {
     "name": "stdout",
     "output_type": "stream",
     "text": [
      "[[1 2]\n",
      " [3 4]]\n",
      "[[1 2]\n",
      " [3 4]\n",
      " [5 6]]\n",
      "[1 2 3 4 5 6]\n"
     ]
    }
   ],
   "source": [
    "import numpy as np\n",
    "a=np.array([[1,2],[3,4]])\n",
    "print(a)\n",
    "b=np.array([[5,6]])\n",
    "c=np.concatenate((a,b))\n",
    "print(c)\n"
   ]
  },
  {
   "cell_type": "code",
   "execution_count": 5,
   "id": "772b7bf9-e3f2-4d2a-9d31-888674d58c50",
   "metadata": {},
   "outputs": [
    {
     "name": "stdout",
     "output_type": "stream",
     "text": [
      "[1 2 3 4 5 6]\n"
     ]
    }
   ],
   "source": [
    "c=np.concatenate((a,b), axis=None) #flatten\n",
    "print(c)"
   ]
  },
  {
   "cell_type": "code",
   "execution_count": 6,
   "id": "2cfb11f4-6771-40bf-9554-9960618f5de7",
   "metadata": {},
   "outputs": [
    {
     "name": "stdout",
     "output_type": "stream",
     "text": [
      "[[1 2 5]\n",
      " [3 4 6]]\n"
     ]
    }
   ],
   "source": [
    "c=np.concatenate((a,b.T), axis=1) \n",
    "print(c)"
   ]
  },
  {
   "cell_type": "markdown",
   "id": "c016df97-75cf-4e18-8475-6a1c7c53ab72",
   "metadata": {},
   "source": [
    "### hstack (hosrizontal stack) :It will stack the array columnwise"
   ]
  },
  {
   "cell_type": "code",
   "execution_count": 7,
   "id": "7b348f3d-7269-4521-b213-88818102811a",
   "metadata": {},
   "outputs": [
    {
     "name": "stdout",
     "output_type": "stream",
     "text": [
      "[1 2 3 4 5 6 7 8]\n"
     ]
    }
   ],
   "source": [
    "a=np.array([1,2,3,4])\n",
    "b=np.array([5,6,7,8])\n",
    "\n",
    "c=np.hstack((a,b))\n",
    "print(c)"
   ]
  },
  {
   "cell_type": "markdown",
   "id": "523d7057-bbd3-4784-9375-fbd91050acb8",
   "metadata": {},
   "source": [
    "### vstack (vertical stack) :It will stack the array vertically"
   ]
  },
  {
   "cell_type": "code",
   "execution_count": 8,
   "id": "87e560b3-9acf-4539-a405-e0acff149b4f",
   "metadata": {},
   "outputs": [
    {
     "name": "stdout",
     "output_type": "stream",
     "text": [
      "[[1 2 3 4]\n",
      " [5 6 7 8]]\n"
     ]
    }
   ],
   "source": [
    "a=np.array([1,2,3,4])\n",
    "b=np.array([5,6,7,8])\n",
    "\n",
    "c=np.vstack((a,b))\n",
    "print(c)"
   ]
  },
  {
   "cell_type": "code",
   "execution_count": null,
   "id": "e497c323-ed2d-478b-916f-9b9a0635ceee",
   "metadata": {},
   "outputs": [],
   "source": []
  }
 ],
 "metadata": {
  "kernelspec": {
   "display_name": "Python 3 (ipykernel)",
   "language": "python",
   "name": "python3"
  },
  "language_info": {
   "codemirror_mode": {
    "name": "ipython",
    "version": 3
   },
   "file_extension": ".py",
   "mimetype": "text/x-python",
   "name": "python",
   "nbconvert_exporter": "python",
   "pygments_lexer": "ipython3",
   "version": "3.10.14"
  }
 },
 "nbformat": 4,
 "nbformat_minor": 5
}
