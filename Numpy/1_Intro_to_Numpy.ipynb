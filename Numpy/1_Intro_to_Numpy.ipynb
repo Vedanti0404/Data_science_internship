{
 "cells": [
  {
   "cell_type": "markdown",
   "id": "8a7920f1-de6d-4cf7-87c3-6b46556ed1e7",
   "metadata": {},
   "source": [
    "### NUMPY:- Core library for scientific computations in Python. Essential for Data Science, ML, DL.It is a core package for many ML libraries like Scikit-learn,matplotlib,pandas,etc. Numpy provides high performance in multidimentional arrays. It also provides tools for the mathematical operations with arrays.\n",
    "\n",
    "### Usecase: Array/matrix operation - Linear Algebra, Dot product, Matrix multiplications, linear systems, inverse determinant, eigen vectors, random numbers, working with images represented as array\n",
    "\n",
    "#### Installing Numpy:- pip install numpy"
   ]
  },
  {
   "cell_type": "code",
   "execution_count": 1,
   "id": "2773cb05-d130-4a1c-a241-2df065b75d5f",
   "metadata": {},
   "outputs": [
    {
     "name": "stdout",
     "output_type": "stream",
     "text": [
      "1.26.4\n"
     ]
    }
   ],
   "source": [
    "\n",
    "import numpy as np\n",
    "print(np.__version__)"
   ]
  },
  {
   "cell_type": "code",
   "execution_count": 5,
   "id": "3aa7d0b9-6106-4f2a-b6f6-7fc7c2be206a",
   "metadata": {},
   "outputs": [
    {
     "name": "stdout",
     "output_type": "stream",
     "text": [
      "[1 2 3 4 5]\n"
     ]
    }
   ],
   "source": [
    "a=np.array([1,2,3,4,5])\n",
    "print(a)\n"
   ]
  },
  {
   "cell_type": "code",
   "execution_count": 6,
   "id": "a70a1778-669c-4bd9-ae89-1f13dad4eedd",
   "metadata": {},
   "outputs": [
    {
     "name": "stdout",
     "output_type": "stream",
     "text": [
      "(5,)\n",
      "int32\n",
      "1\n",
      "5\n",
      "4\n",
      "1\n",
      "[10  2  3  4  5]\n"
     ]
    }
   ],
   "source": [
    "print(a.shape) # shape- shape of array\n",
    "print(a.dtype) # dtype- datatype of array\n",
    "print(a.ndim)  # ndim- number of dimensions of array\n",
    "print(a.size)\n",
    "print(a.itemsize)\n",
    "print(a[0])\n",
    "a[0]=10\n",
    "print(a)"
   ]
  },
  {
   "cell_type": "code",
   "execution_count": 7,
   "id": "e0b1ef80-fbd5-429d-abe5-cfbb0b11b018",
   "metadata": {},
   "outputs": [
    {
     "name": "stdout",
     "output_type": "stream",
     "text": [
      "[60 14 24 36  5]\n"
     ]
    }
   ],
   "source": [
    "# Operations of arrays\n",
    "\n",
    "b=a*np.array([6,7,8,9,1])\n",
    "print(b)"
   ]
  },
  {
   "cell_type": "code",
   "execution_count": null,
   "id": "fc63c39f-908d-4c91-a27b-64e6c4ddcf3e",
   "metadata": {},
   "outputs": [],
   "source": []
  }
 ],
 "metadata": {
  "kernelspec": {
   "display_name": "Python 3 (ipykernel)",
   "language": "python",
   "name": "python3"
  },
  "language_info": {
   "codemirror_mode": {
    "name": "ipython",
    "version": 3
   },
   "file_extension": ".py",
   "mimetype": "text/x-python",
   "name": "python",
   "nbconvert_exporter": "python",
   "pygments_lexer": "ipython3",
   "version": "3.10.14"
  }
 },
 "nbformat": 4,
 "nbformat_minor": 5
}
